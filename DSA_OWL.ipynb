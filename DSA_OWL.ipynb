{
 "cells": [
  {
   "cell_type": "code",
   "execution_count": 51,
   "metadata": {},
   "outputs": [
    {
     "data": {
      "text/plain": [
       "get_ontology(\"http://www.owl-ontologies.com/GDS.owl#\")"
      ]
     },
     "execution_count": 51,
     "metadata": {},
     "output_type": "execute_result"
    }
   ],
   "source": [
    "from owlready2 import *\n",
    "onto = get_ontology(\"file:////home/rubaiya/Downloads/DSA_04092015.owl\")\n",
    "onto.load()"
   ]
  },
  {
   "cell_type": "code",
   "execution_count": 52,
   "metadata": {},
   "outputs": [
    {
     "name": "stdout",
     "output_type": "stream",
     "text": [
      "DSA_04092015.GRAPH\n"
     ]
    }
   ],
   "source": [
    "class_list = list(onto.classes())\n",
    "label_list = []\n",
    "print(onto.GRAPH)"
   ]
  },
  {
   "cell_type": "code",
   "execution_count": 53,
   "metadata": {},
   "outputs": [
    {
     "name": "stdout",
     "output_type": "stream",
     "text": [
      "[DSA_04092015.ACCESS_STYLE, DSA_04092015.ADT, DSA_04092015.GRAPH_NODE, DSA_04092015.ALGORITHM, DSA_04092015.COMPLEXITY, DSA_04092015.DESIGN_TECHNIQUE, DSA_04092015.EDGE, DSA_04092015.GRAPH, DSA_04092015.FILE, DSA_04092015.FILE_ORGANIZATION, DSA_04092015.LIST_NODE, DSA_04092015.NODE, DSA_04092015.LIST, DSA_04092015.OPERATION, DSA_04092015.TREE, DSA_04092015.ACYCLIC_GRAPH, DSA_04092015.CYCLIC_GRAPH, DSA_04092015.ALL_PAIRS_SHORTEST_PATH_ALGORITHM, DSA_04092015.SHORTEST_PATH_ALGORITHM, DSA_04092015.ARRAY, DSA_04092015.CONTINOUS_STORAGE, DSA_04092015.ARRAY_OPERATION, DSA_04092015.BINARY_HEAP, DSA_04092015.HEAP, DSA_04092015.BINARY_TREE, DSA_04092015.BINOMIAL_HEAP, DSA_04092015.MERGEABLE_HEAP, DSA_04092015.BINOMIAL_TREE, DSA_04092015.CHILD_NODE, DSA_04092015.CONNECTED_GRAPH, DSA_04092015.STORAGE, DSA_04092015.RANDOM_ACCESS_STYLE, DSA_04092015.CONVEX_HULL_ALGORITHM, DSA_04092015.DICTIONARY, DSA_04092015.DIRECTED_EDGE, DSA_04092015.DIRECTED_GRAPH, DSA_04092015.UNDIRECTED_GRAPH, DSA_04092015.DISCONNECTED_GRAPH, DSA_04092015.DISJOINT_SET, DSA_04092015.DISJOINT_SET_OPERATION, DSA_04092015.DOUBLY_LINKED_LIST, DSA_04092015.DOUBLY_LINKED_LIST_NODE, DSA_04092015.DYNAMIC_SET, DSA_04092015.MUTABLE_SET, DSA_04092015.SET, DSA_04092015.EXTERNAL_SORTING_ALGORITHM, DSA_04092015.SORTING_ALGORITHM, DSA_04092015.FIBONACCI_HEAP, DSA_04092015.FILE_OPERATION, DSA_04092015.FLOW_NETWORK_ALGORITHM, DSA_04092015.FROZEN_SET, DSA_04092015.STATIC_SET, DSA_04092015.GRAPH_OPERATION, DSA_04092015.GRAPH_SEARCH_ALGORITHM, DSA_04092015.HASH_MAP, DSA_04092015.HASH_TABLE, DSA_04092015.HEAP_OPERATION, DSA_04092015.INTERNAL_NODE, DSA_04092015.INTERNAL_SORTING_ALGORITHM, DSA_04092015.LEAF_NODE, DSA_04092015.LINKED_STORAGE, DSA_04092015.SEQUENTIAL_ACCESS_STYLE, DSA_04092015.LIST_OPERATION, DSA_04092015.LOOP, DSA_04092015.MATRIX_MULTIPLICATION_ALGORITHM, DSA_04092015.MINIMUM_SPANNING_TREE_ALGORITHM, DSA_04092015.N-ARY_TREE, DSA_04092015.PARENT_NODE, DSA_04092015.QUEUE, DSA_04092015.QUEUE_OPERATION, DSA_04092015.ROOT_NODE, DSA_04092015.SEQUENCE_SEARCH_ALGORITHM, DSA_04092015.SET_OPERATION, DSA_04092015.SIBLING_NODE, DSA_04092015.SINGLE_PAIR_SHORTEST_PATH_ALGORITHM, DSA_04092015.SINGLE_SINGLE_SHORTEST_PATH_ALGORITHM, DSA_04092015.SINGLY_LINKED_LIST, DSA_04092015.SINGLY_LINKED_LIST_NODE, DSA_04092015.STACK, DSA_04092015.STACK_OPERATION, DSA_04092015.STRING_MATCHING_ALGORITHM, DSA_04092015.TABLE, DSA_04092015.TREE_OPERATION, DSA_04092015.TREE_SEARCH_ALGORITHM, DSA_04092015.UNDIRECTED_EDGE, DSA_04092015.UNWEIGHTED_EDGE, DSA_04092015.VECTOR, DSA_04092015.WEIGHTED_EDGE]\n"
     ]
    }
   ],
   "source": [
    "print(class_list)"
   ]
  },
  {
   "cell_type": "code",
   "execution_count": 54,
   "metadata": {},
   "outputs": [
    {
     "name": "stdout",
     "output_type": "stream",
     "text": [
      "{'ACCESS_STYLE': 'GRAPH', 'NODE': 'LIST_NODE', 'OPERATION': 'GRAPHOPERATION'}\n"
     ]
    }
   ],
   "source": [
    "print(class_and_label)"
   ]
  },
  {
   "cell_type": "code",
   "execution_count": 55,
   "metadata": {},
   "outputs": [],
   "source": [
    "for a in class_list:\n",
    "    label_list.append(a.label)"
   ]
  },
  {
   "cell_type": "code",
   "execution_count": 56,
   "metadata": {},
   "outputs": [
    {
     "name": "stdout",
     "output_type": "stream",
     "text": [
      "[DSA_04092015.ACCESS_STYLE, owl.Thing]\n",
      "[owl.Thing, DSA_04092015.ADT]\n",
      "[DSA_04092015.NODE, DSA_04092015.GRAPH_NODE, owl.Thing]\n",
      "[owl.Thing, DSA_04092015.ALGORITHM]\n",
      "[DSA_04092015.COMPLEXITY, owl.Thing]\n",
      "[DSA_04092015.DESIGN_TECHNIQUE, owl.Thing]\n",
      "[owl.Thing, DSA_04092015.EDGE]\n",
      "[DSA_04092015.GRAPH, owl.Thing, DSA_04092015.ADT]\n",
      "[owl.Thing, DSA_04092015.ADT, DSA_04092015.FILE]\n",
      "[DSA_04092015.FILE_ORGANIZATION, owl.Thing]\n",
      "[DSA_04092015.LIST_NODE, DSA_04092015.NODE, owl.Thing]\n",
      "[DSA_04092015.NODE, owl.Thing]\n",
      "[DSA_04092015.LIST, DSA_04092015.STORAGE, owl.Thing, DSA_04092015.LINKED_STORAGE]\n",
      "[owl.Thing, DSA_04092015.OPERATION]\n",
      "[DSA_04092015.GRAPH, owl.Thing, DSA_04092015.ADT, DSA_04092015.ACYCLIC_GRAPH, DSA_04092015.CONNECTED_GRAPH, DSA_04092015.TREE]\n",
      "[DSA_04092015.ACYCLIC_GRAPH, DSA_04092015.GRAPH, owl.Thing, DSA_04092015.ADT]\n",
      "[DSA_04092015.CYCLIC_GRAPH, DSA_04092015.GRAPH, DSA_04092015.ADT, owl.Thing]\n",
      "[DSA_04092015.ALL_PAIRS_SHORTEST_PATH_ALGORITHM, owl.Thing, DSA_04092015.SHORTEST_PATH_ALGORITHM, DSA_04092015.ALGORITHM]\n",
      "[owl.Thing, DSA_04092015.SHORTEST_PATH_ALGORITHM, DSA_04092015.ALGORITHM]\n",
      "[DSA_04092015.CONTINOUS_STORAGE, DSA_04092015.STORAGE, owl.Thing, DSA_04092015.ARRAY]\n",
      "[DSA_04092015.CONTINOUS_STORAGE, DSA_04092015.STORAGE, owl.Thing]\n",
      "[DSA_04092015.ARRAY_OPERATION, owl.Thing, DSA_04092015.OPERATION]\n",
      "[DSA_04092015.GRAPH, owl.Thing, DSA_04092015.ADT, DSA_04092015.BINARY_HEAP, DSA_04092015.ACYCLIC_GRAPH, DSA_04092015.HEAP, DSA_04092015.CONNECTED_GRAPH]\n",
      "[DSA_04092015.GRAPH, owl.Thing, DSA_04092015.ADT, DSA_04092015.ACYCLIC_GRAPH, DSA_04092015.HEAP, DSA_04092015.CONNECTED_GRAPH]\n",
      "[DSA_04092015.GRAPH, owl.Thing, DSA_04092015.BINARY_TREE, DSA_04092015.ADT, DSA_04092015.ACYCLIC_GRAPH, DSA_04092015.CONNECTED_GRAPH, DSA_04092015.TREE]\n",
      "[DSA_04092015.GRAPH, DSA_04092015.BINOMIAL_HEAP, owl.Thing, DSA_04092015.MERGEABLE_HEAP, DSA_04092015.ADT, DSA_04092015.ACYCLIC_GRAPH, DSA_04092015.HEAP, DSA_04092015.CONNECTED_GRAPH]\n",
      "[DSA_04092015.GRAPH, owl.Thing, DSA_04092015.MERGEABLE_HEAP, DSA_04092015.ADT, DSA_04092015.ACYCLIC_GRAPH, DSA_04092015.HEAP, DSA_04092015.CONNECTED_GRAPH]\n",
      "[DSA_04092015.GRAPH, DSA_04092015.BINOMIAL_TREE, owl.Thing, DSA_04092015.ADT, DSA_04092015.ACYCLIC_GRAPH, DSA_04092015.CONNECTED_GRAPH, DSA_04092015.TREE]\n",
      "[DSA_04092015.NODE, DSA_04092015.GRAPH_NODE, owl.Thing, DSA_04092015.CHILD_NODE]\n",
      "[DSA_04092015.GRAPH, owl.Thing, DSA_04092015.ADT, DSA_04092015.CONNECTED_GRAPH]\n",
      "[DSA_04092015.STORAGE, owl.Thing]\n",
      "[DSA_04092015.RANDOM_ACCESS_STYLE, DSA_04092015.ACCESS_STYLE, owl.Thing]\n",
      "[owl.Thing, DSA_04092015.ALGORITHM, DSA_04092015.CONVEX_HULL_ALGORITHM]\n",
      "[DSA_04092015.DICTIONARY, owl.Thing, DSA_04092015.ADT]\n",
      "[owl.Thing, DSA_04092015.DIRECTED_EDGE, DSA_04092015.EDGE]\n",
      "[DSA_04092015.DIRECTED_GRAPH, DSA_04092015.GRAPH, owl.Thing, DSA_04092015.ADT]\n",
      "[DSA_04092015.GRAPH, DSA_04092015.UNDIRECTED_GRAPH, owl.Thing, DSA_04092015.ADT]\n",
      "[DSA_04092015.GRAPH, owl.Thing, DSA_04092015.ADT, DSA_04092015.DISCONNECTED_GRAPH]\n",
      "[DSA_04092015.DISJOINT_SET, owl.Thing, DSA_04092015.ADT]\n",
      "[DSA_04092015.DISJOINT_SET_OPERATION, DSA_04092015.OPERATION, owl.Thing]\n",
      "[DSA_04092015.LIST, DSA_04092015.LINKED_STORAGE, DSA_04092015.STORAGE, owl.Thing, DSA_04092015.DOUBLY_LINKED_LIST]\n",
      "[DSA_04092015.LIST_NODE, DSA_04092015.NODE, owl.Thing, DSA_04092015.DOUBLY_LINKED_LIST_NODE]\n",
      "[DSA_04092015.DYNAMIC_SET, DSA_04092015.SET, owl.Thing, DSA_04092015.ADT, DSA_04092015.MUTABLE_SET]\n",
      "[DSA_04092015.DYNAMIC_SET, DSA_04092015.SET, owl.Thing, DSA_04092015.ADT, DSA_04092015.MUTABLE_SET]\n",
      "[DSA_04092015.SET, owl.Thing, DSA_04092015.ADT]\n",
      "[DSA_04092015.SORTING_ALGORITHM, owl.Thing, DSA_04092015.EXTERNAL_SORTING_ALGORITHM, DSA_04092015.ALGORITHM]\n",
      "[DSA_04092015.SORTING_ALGORITHM, owl.Thing, DSA_04092015.ALGORITHM]\n",
      "[DSA_04092015.GRAPH, owl.Thing, DSA_04092015.MERGEABLE_HEAP, DSA_04092015.FIBONACCI_HEAP, DSA_04092015.ADT, DSA_04092015.ACYCLIC_GRAPH, DSA_04092015.HEAP, DSA_04092015.CONNECTED_GRAPH]\n",
      "[DSA_04092015.FILE_OPERATION, owl.Thing, DSA_04092015.OPERATION]\n",
      "[DSA_04092015.ALGORITHM, owl.Thing, DSA_04092015.FLOW_NETWORK_ALGORITHM]\n",
      "[DSA_04092015.STATIC_SET, DSA_04092015.SET, owl.Thing, DSA_04092015.ADT, DSA_04092015.FROZEN_SET]\n",
      "[DSA_04092015.STATIC_SET, DSA_04092015.SET, owl.Thing, DSA_04092015.ADT, DSA_04092015.FROZEN_SET]\n",
      "[DSA_04092015.GRAPH_OPERATION, owl.Thing, DSA_04092015.OPERATION]\n",
      "[DSA_04092015.GRAPH_SEARCH_ALGORITHM, owl.Thing, DSA_04092015.ALGORITHM]\n",
      "[owl.Thing, DSA_04092015.HASH_TABLE, DSA_04092015.ADT, DSA_04092015.HASH_MAP, DSA_04092015.DICTIONARY]\n",
      "[owl.Thing, DSA_04092015.HASH_TABLE, DSA_04092015.ADT, DSA_04092015.HASH_MAP, DSA_04092015.DICTIONARY]\n",
      "[DSA_04092015.GRAPH_OPERATION, DSA_04092015.OPERATION, owl.Thing, DSA_04092015.HEAP_OPERATION]\n",
      "[DSA_04092015.INTERNAL_NODE, DSA_04092015.NODE, DSA_04092015.GRAPH_NODE, owl.Thing]\n",
      "[DSA_04092015.SORTING_ALGORITHM, DSA_04092015.INTERNAL_SORTING_ALGORITHM, owl.Thing, DSA_04092015.ALGORITHM]\n",
      "[DSA_04092015.NODE, DSA_04092015.GRAPH_NODE, owl.Thing, DSA_04092015.LEAF_NODE]\n",
      "[DSA_04092015.STORAGE, owl.Thing, DSA_04092015.LINKED_STORAGE]\n",
      "[DSA_04092015.SEQUENTIAL_ACCESS_STYLE, DSA_04092015.ACCESS_STYLE, owl.Thing]\n",
      "[DSA_04092015.LIST_OPERATION, owl.Thing, DSA_04092015.OPERATION]\n",
      "[DSA_04092015.LOOP, owl.Thing, DSA_04092015.EDGE]\n",
      "[owl.Thing, DSA_04092015.ALGORITHM, DSA_04092015.MATRIX_MULTIPLICATION_ALGORITHM]\n",
      "[DSA_04092015.MINIMUM_SPANNING_TREE_ALGORITHM, owl.Thing, DSA_04092015.ALGORITHM]\n",
      "[DSA_04092015.GRAPH, owl.Thing, DSA_04092015.ADT, DSA_04092015.N-ARY_TREE, DSA_04092015.ACYCLIC_GRAPH, DSA_04092015.CONNECTED_GRAPH, DSA_04092015.TREE]\n",
      "[DSA_04092015.PARENT_NODE, DSA_04092015.NODE, DSA_04092015.GRAPH_NODE, owl.Thing]\n",
      "[DSA_04092015.QUEUE, owl.Thing, DSA_04092015.ADT]\n",
      "[owl.Thing, DSA_04092015.OPERATION, DSA_04092015.QUEUE_OPERATION]\n",
      "[DSA_04092015.ROOT_NODE, DSA_04092015.NODE, DSA_04092015.GRAPH_NODE, owl.Thing]\n",
      "[DSA_04092015.SEQUENCE_SEARCH_ALGORITHM, owl.Thing, DSA_04092015.ALGORITHM]\n",
      "[owl.Thing, DSA_04092015.OPERATION, DSA_04092015.SET_OPERATION]\n",
      "[DSA_04092015.SIBLING_NODE, DSA_04092015.GRAPH_NODE, DSA_04092015.NODE, owl.Thing]\n",
      "[DSA_04092015.SHORTEST_PATH_ALGORITHM, DSA_04092015.SINGLE_PAIR_SHORTEST_PATH_ALGORITHM, DSA_04092015.ALGORITHM, owl.Thing]\n",
      "[DSA_04092015.SINGLE_SINGLE_SHORTEST_PATH_ALGORITHM, owl.Thing, DSA_04092015.SHORTEST_PATH_ALGORITHM, DSA_04092015.ALGORITHM]\n",
      "[DSA_04092015.LIST, DSA_04092015.SINGLY_LINKED_LIST, DSA_04092015.LINKED_STORAGE, DSA_04092015.STORAGE, owl.Thing]\n",
      "[DSA_04092015.LIST_NODE, DSA_04092015.NODE, owl.Thing, DSA_04092015.SINGLY_LINKED_LIST_NODE]\n",
      "[DSA_04092015.STACK, owl.Thing, DSA_04092015.ADT]\n",
      "[DSA_04092015.STACK_OPERATION, DSA_04092015.OPERATION, owl.Thing]\n",
      "[DSA_04092015.STRING_MATCHING_ALGORITHM, owl.Thing, DSA_04092015.ALGORITHM]\n",
      "[DSA_04092015.TABLE, owl.Thing, DSA_04092015.ADT]\n",
      "[DSA_04092015.GRAPH_OPERATION, owl.Thing, DSA_04092015.OPERATION, DSA_04092015.TREE_OPERATION]\n",
      "[DSA_04092015.TREE_SEARCH_ALGORITHM, owl.Thing, DSA_04092015.ALGORITHM]\n",
      "[DSA_04092015.UNDIRECTED_EDGE, owl.Thing, DSA_04092015.EDGE]\n",
      "[DSA_04092015.EDGE, owl.Thing, DSA_04092015.UNWEIGHTED_EDGE]\n",
      "[DSA_04092015.VECTOR, owl.Thing, DSA_04092015.ADT]\n",
      "[owl.Thing, DSA_04092015.WEIGHTED_EDGE, DSA_04092015.EDGE]\n"
     ]
    }
   ],
   "source": [
    "for a in class_list:\n",
    "    ancestors = list(a.ancestors())\n",
    "    print(ancestors)         "
   ]
  },
  {
   "cell_type": "code",
   "execution_count": 57,
   "metadata": {},
   "outputs": [
    {
     "name": "stdout",
     "output_type": "stream",
     "text": [
      "[DSA_04092015.adjacencyMatrix, DSA_04092015.appendFile, DSA_04092015.associativeList, DSA_04092015.avlTree, DSA_04092015.inOrderTraversal, DSA_04092015.postOrderTraversal, DSA_04092015.preOrderTraversal, DSA_04092015.bPlusTree, DSA_04092015.bTree, DSA_04092015.backtracking, DSA_04092015.balancedTree, DSA_04092015.beamSearch, DSA_04092015.bellmanFordAlgorithm, DSA_04092015.bestFirstSearch, DSA_04092015.binarySearch, DSA_04092015.binarySearchTree, DSA_04092015.binomialTree, DSA_04092015.boruvkasAlgorithm, DSA_04092015.branchAndBound, DSA_04092015.breadthFirstSearch, DSA_04092015.bubbleSort, DSA_04092015.n_exp_2, DSA_04092015.bucketSort, DSA_04092015.circularQueue, DSA_04092015.dequeue, DSA_04092015.enqueue, DSA_04092015.circularlyLinkedList, DSA_04092015.closeFile, DSA_04092015.completeTree, DSA_04092015.constant, DSA_04092015.coppersmithWinogradAlgorithm, DSA_04092015.deleteElementFromArray, DSA_04092015.deleteElementFromList, DSA_04092015.deleteElementFromSet, DSA_04092015.deleteGraphFromGraph, DSA_04092015.depthFirstSearch, DSA_04092015.dictionary, DSA_04092015.dijkstrasAlgorithm, DSA_04092015.directOrganization, DSA_04092015.diskSort, DSA_04092015.divideAndConquer, DSA_04092015.doubleEndedQueue, DSA_04092015.doublyLinkedList, DSA_04092015.dynamicProgramming, DSA_04092015.dynamicSet, DSA_04092015.edmondsKarpAlgorithm, DSA_04092015.exp, DSA_04092015.extractMin, DSA_04092015.fibonacciSearch, DSA_04092015.file, DSA_04092015.openFile, DSA_04092015.readFile, DSA_04092015.writeFile, DSA_04092015.find, DSA_04092015.findMin, DSA_04092015.floydWarshallAlgorithm, DSA_04092015.fordFulkersonAlgorithm, DSA_04092015.frozenSet, DSA_04092015.fullTree, DSA_04092015.grahamScan, DSA_04092015.greedyMethod, DSA_04092015.hashMap, DSA_04092015.hashTable, DSA_04092015.hashing, DSA_04092015.heapSort, DSA_04092015.n_log_n, DSA_04092015.indexedOrganization, DSA_04092015.inputRestrictedDeque, DSA_04092015.insertElementIntoArray, DSA_04092015.insertElementIntoGraph, DSA_04092015.insertElementIntoList, DSA_04092015.insertElementIntoSet, DSA_04092015.insertionSort, DSA_04092015.jarvisMarch, DSA_04092015.johnsonAlgorithm, DSA_04092015.knuthMorrisPrattAlgorithm, DSA_04092015.kruskalsAlgorithm, DSA_04092015.levelOrderTraversal, DSA_04092015.linearQueue, DSA_04092015.linearSearch, DSA_04092015.log_n, DSA_04092015.m_plus_n, DSA_04092015.makeSet, DSA_04092015.mergeSort, DSA_04092015.multiDimensionalArray, DSA_04092015.multiGraph, DSA_04092015.mutableSet, DSA_04092015.n, DSA_04092015.n_exp_3, DSA_04092015.nullGraph, DSA_04092015.oneDimensionalArray, DSA_04092015.orderedArray, DSA_04092015.outputRestrictedDeque, DSA_04092015.perfectTree, DSA_04092015.primsAlgorithm, DSA_04092015.priorityQueue, DSA_04092015.push, DSA_04092015.quickSort, DSA_04092015.radixSort, DSA_04092015.randomAccess, DSA_04092015.redBlackTree, DSA_04092015.robinKarpAlgorithm, DSA_04092015.searchArray, DSA_04092015.searchGraph, DSA_04092015.searchList, DSA_04092015.searchQueue, DSA_04092015.searchSet, DSA_04092015.seek, DSA_04092015.selectionSort, DSA_04092015.sequentialAccess, DSA_04092015.sequentialOrganization, DSA_04092015.shellSort, DSA_04092015.simpleGraph, DSA_04092015.singlyLinkedList, DSA_04092015.skewedTree, DSA_04092015.stack, DSA_04092015.staticSet, DSA_04092015.strassenAlgorithm, DSA_04092015.tapeSort, DSA_04092015.union, DSA_04092015.unorderedArray, DSA_04092015.vector, DSA_04092015.232twoThreeTree, DSA_04092015.234twoThreeFourTree, DSA_04092015.A*aStar, DSA_04092015.p[pop]\n"
     ]
    }
   ],
   "source": [
    "instance_list = list(onto.individuals())\n",
    "print(instance_list)"
   ]
  },
  {
   "cell_type": "code",
   "execution_count": 58,
   "metadata": {},
   "outputs": [],
   "source": [
    "for i in class_list:\n",
    "    label_list.append(i.label)"
   ]
  },
  {
   "cell_type": "code",
   "execution_count": 59,
   "metadata": {},
   "outputs": [
    {
     "name": "stdout",
     "output_type": "stream",
     "text": [
      "[DSA_04092015.randomAccess, DSA_04092015.sequentialAccess]\n",
      "[DSA_04092015.multiGraph, DSA_04092015.nullGraph, DSA_04092015.simpleGraph, DSA_04092015.file, DSA_04092015.dictionary, DSA_04092015.circularQueue, DSA_04092015.doubleEndedQueue, DSA_04092015.inputRestrictedDeque, DSA_04092015.linearQueue, DSA_04092015.outputRestrictedDeque, DSA_04092015.priorityQueue, DSA_04092015.stack, DSA_04092015.vector, DSA_04092015.balancedTree, DSA_04092015.completeTree, DSA_04092015.fullTree, DSA_04092015.perfectTree, DSA_04092015.skewedTree, DSA_04092015.hashMap, DSA_04092015.hashTable, DSA_04092015.dynamicSet, DSA_04092015.mutableSet, DSA_04092015.frozenSet, DSA_04092015.staticSet, DSA_04092015.avlTree, DSA_04092015.binarySearchTree, DSA_04092015.redBlackTree, DSA_04092015.binomialTree, DSA_04092015.bPlusTree, DSA_04092015.bTree, DSA_04092015.232twoThreeTree, DSA_04092015.234twoThreeFourTree]\n",
      "[]\n",
      "[DSA_04092015.grahamScan, DSA_04092015.jarvisMarch, DSA_04092015.edmondsKarpAlgorithm, DSA_04092015.fordFulkersonAlgorithm, DSA_04092015.beamSearch, DSA_04092015.bestFirstSearch, DSA_04092015.breadthFirstSearch, DSA_04092015.depthFirstSearch, DSA_04092015.A*aStar, DSA_04092015.coppersmithWinogradAlgorithm, DSA_04092015.strassenAlgorithm, DSA_04092015.boruvkasAlgorithm, DSA_04092015.kruskalsAlgorithm, DSA_04092015.primsAlgorithm, DSA_04092015.binarySearch, DSA_04092015.fibonacciSearch, DSA_04092015.hashing, DSA_04092015.linearSearch, DSA_04092015.knuthMorrisPrattAlgorithm, DSA_04092015.robinKarpAlgorithm, DSA_04092015.inOrderTraversal, DSA_04092015.postOrderTraversal, DSA_04092015.preOrderTraversal, DSA_04092015.levelOrderTraversal, DSA_04092015.floydWarshallAlgorithm, DSA_04092015.johnsonAlgorithm, DSA_04092015.bellmanFordAlgorithm, DSA_04092015.dijkstrasAlgorithm, DSA_04092015.diskSort, DSA_04092015.tapeSort, DSA_04092015.bubbleSort, DSA_04092015.bucketSort, DSA_04092015.heapSort, DSA_04092015.insertionSort, DSA_04092015.mergeSort, DSA_04092015.quickSort, DSA_04092015.radixSort, DSA_04092015.selectionSort, DSA_04092015.shellSort]\n",
      "[DSA_04092015.n_exp_2, DSA_04092015.constant, DSA_04092015.exp, DSA_04092015.n_log_n, DSA_04092015.log_n, DSA_04092015.m_plus_n, DSA_04092015.n, DSA_04092015.n_exp_3]\n",
      "[DSA_04092015.backtracking, DSA_04092015.branchAndBound, DSA_04092015.divideAndConquer, DSA_04092015.dynamicProgramming, DSA_04092015.greedyMethod]\n",
      "[]\n",
      "[DSA_04092015.multiGraph, DSA_04092015.nullGraph, DSA_04092015.simpleGraph, DSA_04092015.balancedTree, DSA_04092015.completeTree, DSA_04092015.fullTree, DSA_04092015.perfectTree, DSA_04092015.skewedTree, DSA_04092015.avlTree, DSA_04092015.binarySearchTree, DSA_04092015.redBlackTree, DSA_04092015.binomialTree, DSA_04092015.bPlusTree, DSA_04092015.bTree, DSA_04092015.232twoThreeTree, DSA_04092015.234twoThreeFourTree]\n",
      "[DSA_04092015.file]\n",
      "[DSA_04092015.directOrganization, DSA_04092015.indexedOrganization, DSA_04092015.sequentialOrganization]\n",
      "[]\n",
      "[]\n",
      "[DSA_04092015.associativeList, DSA_04092015.circularlyLinkedList, DSA_04092015.doublyLinkedList, DSA_04092015.singlyLinkedList]\n",
      "[DSA_04092015.deleteElementFromArray, DSA_04092015.insertElementIntoArray, DSA_04092015.searchArray, DSA_04092015.find, DSA_04092015.makeSet, DSA_04092015.union, DSA_04092015.appendFile, DSA_04092015.closeFile, DSA_04092015.openFile, DSA_04092015.readFile, DSA_04092015.writeFile, DSA_04092015.deleteGraphFromGraph, DSA_04092015.insertElementIntoGraph, DSA_04092015.searchGraph, DSA_04092015.deleteElementFromList, DSA_04092015.insertElementIntoList, DSA_04092015.searchList, DSA_04092015.dequeue, DSA_04092015.enqueue, DSA_04092015.searchQueue, DSA_04092015.deleteElementFromSet, DSA_04092015.insertElementIntoSet, DSA_04092015.searchSet, DSA_04092015.push, DSA_04092015.seek, DSA_04092015.p[pop, DSA_04092015.extractMin, DSA_04092015.findMin]\n",
      "[DSA_04092015.balancedTree, DSA_04092015.completeTree, DSA_04092015.fullTree, DSA_04092015.perfectTree, DSA_04092015.skewedTree, DSA_04092015.avlTree, DSA_04092015.binarySearchTree, DSA_04092015.redBlackTree, DSA_04092015.binomialTree, DSA_04092015.bPlusTree, DSA_04092015.bTree, DSA_04092015.232twoThreeTree, DSA_04092015.234twoThreeFourTree]\n",
      "[DSA_04092015.balancedTree, DSA_04092015.completeTree, DSA_04092015.fullTree, DSA_04092015.perfectTree, DSA_04092015.skewedTree, DSA_04092015.avlTree, DSA_04092015.binarySearchTree, DSA_04092015.redBlackTree, DSA_04092015.binomialTree, DSA_04092015.bPlusTree, DSA_04092015.bTree, DSA_04092015.232twoThreeTree, DSA_04092015.234twoThreeFourTree]\n",
      "[]\n",
      "[DSA_04092015.floydWarshallAlgorithm, DSA_04092015.johnsonAlgorithm]\n",
      "[DSA_04092015.floydWarshallAlgorithm, DSA_04092015.johnsonAlgorithm, DSA_04092015.breadthFirstSearch, DSA_04092015.bellmanFordAlgorithm, DSA_04092015.dijkstrasAlgorithm]\n",
      "[DSA_04092015.adjacencyMatrix, DSA_04092015.multiDimensionalArray, DSA_04092015.oneDimensionalArray, DSA_04092015.orderedArray, DSA_04092015.unorderedArray]\n",
      "[DSA_04092015.adjacencyMatrix, DSA_04092015.multiDimensionalArray, DSA_04092015.oneDimensionalArray, DSA_04092015.orderedArray, DSA_04092015.unorderedArray]\n",
      "[DSA_04092015.deleteElementFromArray, DSA_04092015.insertElementIntoArray, DSA_04092015.searchArray]\n",
      "[]\n",
      "[]\n",
      "[DSA_04092015.avlTree, DSA_04092015.binarySearchTree, DSA_04092015.redBlackTree]\n",
      "[]\n",
      "[]\n",
      "[DSA_04092015.binomialTree]\n",
      "[]\n",
      "[DSA_04092015.balancedTree, DSA_04092015.completeTree, DSA_04092015.fullTree, DSA_04092015.perfectTree, DSA_04092015.skewedTree, DSA_04092015.avlTree, DSA_04092015.binarySearchTree, DSA_04092015.redBlackTree, DSA_04092015.binomialTree, DSA_04092015.bPlusTree, DSA_04092015.bTree, DSA_04092015.232twoThreeTree, DSA_04092015.234twoThreeFourTree]\n",
      "[DSA_04092015.adjacencyMatrix, DSA_04092015.multiDimensionalArray, DSA_04092015.oneDimensionalArray, DSA_04092015.orderedArray, DSA_04092015.unorderedArray, DSA_04092015.associativeList, DSA_04092015.circularlyLinkedList, DSA_04092015.doublyLinkedList, DSA_04092015.singlyLinkedList]\n",
      "[DSA_04092015.randomAccess]\n",
      "[DSA_04092015.grahamScan, DSA_04092015.jarvisMarch]\n",
      "[DSA_04092015.dictionary, DSA_04092015.hashMap, DSA_04092015.hashTable]\n",
      "[]\n",
      "[]\n",
      "[]\n",
      "[]\n",
      "[]\n",
      "[DSA_04092015.find, DSA_04092015.makeSet, DSA_04092015.union]\n",
      "[DSA_04092015.doublyLinkedList]\n",
      "[]\n",
      "[DSA_04092015.dynamicSet]\n",
      "[DSA_04092015.mutableSet]\n",
      "[DSA_04092015.dynamicSet, DSA_04092015.mutableSet, DSA_04092015.frozenSet, DSA_04092015.staticSet]\n",
      "[DSA_04092015.diskSort, DSA_04092015.tapeSort]\n",
      "[DSA_04092015.diskSort, DSA_04092015.tapeSort, DSA_04092015.bubbleSort, DSA_04092015.bucketSort, DSA_04092015.heapSort, DSA_04092015.insertionSort, DSA_04092015.mergeSort, DSA_04092015.quickSort, DSA_04092015.radixSort, DSA_04092015.selectionSort, DSA_04092015.shellSort]\n",
      "[]\n",
      "[DSA_04092015.appendFile, DSA_04092015.closeFile, DSA_04092015.openFile, DSA_04092015.readFile, DSA_04092015.writeFile]\n",
      "[DSA_04092015.edmondsKarpAlgorithm, DSA_04092015.fordFulkersonAlgorithm]\n",
      "[DSA_04092015.frozenSet]\n",
      "[DSA_04092015.staticSet]\n",
      "[DSA_04092015.deleteGraphFromGraph, DSA_04092015.insertElementIntoGraph, DSA_04092015.searchGraph, DSA_04092015.extractMin, DSA_04092015.findMin]\n",
      "[DSA_04092015.beamSearch, DSA_04092015.bestFirstSearch, DSA_04092015.breadthFirstSearch, DSA_04092015.depthFirstSearch, DSA_04092015.A*aStar]\n",
      "[DSA_04092015.hashMap]\n",
      "[DSA_04092015.hashTable]\n",
      "[DSA_04092015.extractMin, DSA_04092015.findMin]\n",
      "[]\n",
      "[DSA_04092015.bubbleSort, DSA_04092015.bucketSort, DSA_04092015.heapSort, DSA_04092015.insertionSort, DSA_04092015.mergeSort, DSA_04092015.quickSort, DSA_04092015.radixSort, DSA_04092015.selectionSort, DSA_04092015.shellSort]\n",
      "[]\n",
      "[DSA_04092015.associativeList, DSA_04092015.circularlyLinkedList, DSA_04092015.doublyLinkedList, DSA_04092015.singlyLinkedList]\n",
      "[DSA_04092015.sequentialAccess]\n",
      "[DSA_04092015.deleteElementFromList, DSA_04092015.insertElementIntoList, DSA_04092015.searchList]\n",
      "[]\n",
      "[DSA_04092015.coppersmithWinogradAlgorithm, DSA_04092015.strassenAlgorithm]\n",
      "[DSA_04092015.boruvkasAlgorithm, DSA_04092015.kruskalsAlgorithm, DSA_04092015.primsAlgorithm]\n",
      "[DSA_04092015.bPlusTree, DSA_04092015.bTree, DSA_04092015.232twoThreeTree, DSA_04092015.234twoThreeFourTree]\n",
      "[]\n",
      "[DSA_04092015.circularQueue, DSA_04092015.doubleEndedQueue, DSA_04092015.inputRestrictedDeque, DSA_04092015.linearQueue, DSA_04092015.outputRestrictedDeque, DSA_04092015.priorityQueue]\n",
      "[DSA_04092015.dequeue, DSA_04092015.enqueue, DSA_04092015.searchQueue]\n",
      "[]\n",
      "[DSA_04092015.binarySearch, DSA_04092015.fibonacciSearch, DSA_04092015.hashing, DSA_04092015.linearSearch]\n",
      "[DSA_04092015.deleteElementFromSet, DSA_04092015.insertElementIntoSet, DSA_04092015.searchSet]\n",
      "[]\n",
      "[DSA_04092015.breadthFirstSearch]\n",
      "[DSA_04092015.bellmanFordAlgorithm, DSA_04092015.dijkstrasAlgorithm]\n",
      "[DSA_04092015.singlyLinkedList]\n",
      "[]\n",
      "[DSA_04092015.stack]\n",
      "[DSA_04092015.push, DSA_04092015.seek, DSA_04092015.p[pop]\n",
      "[DSA_04092015.knuthMorrisPrattAlgorithm, DSA_04092015.robinKarpAlgorithm]\n",
      "[]\n",
      "[]\n",
      "[DSA_04092015.inOrderTraversal, DSA_04092015.postOrderTraversal, DSA_04092015.preOrderTraversal, DSA_04092015.levelOrderTraversal]\n",
      "[]\n",
      "[]\n",
      "[DSA_04092015.vector]\n",
      "[]\n"
     ]
    }
   ],
   "source": [
    "for i in class_list:\n",
    "    instances = list(i.instances())\n",
    "    print(instances)"
   ]
  },
  {
   "cell_type": "code",
   "execution_count": 60,
   "metadata": {},
   "outputs": [
    {
     "name": "stdout",
     "output_type": "stream",
     "text": [
      "[DSA_04092015.adjacencyMatrix, DSA_04092015.appendFile, DSA_04092015.associativeList, DSA_04092015.avlTree, DSA_04092015.inOrderTraversal, DSA_04092015.postOrderTraversal, DSA_04092015.preOrderTraversal, DSA_04092015.bPlusTree, DSA_04092015.bTree, DSA_04092015.backtracking, DSA_04092015.balancedTree, DSA_04092015.beamSearch, DSA_04092015.bellmanFordAlgorithm, DSA_04092015.bestFirstSearch, DSA_04092015.binarySearch, DSA_04092015.binarySearchTree, DSA_04092015.binomialTree, DSA_04092015.boruvkasAlgorithm, DSA_04092015.branchAndBound, DSA_04092015.breadthFirstSearch, DSA_04092015.bubbleSort, DSA_04092015.n_exp_2, DSA_04092015.bucketSort, DSA_04092015.circularQueue, DSA_04092015.dequeue, DSA_04092015.enqueue, DSA_04092015.circularlyLinkedList, DSA_04092015.closeFile, DSA_04092015.completeTree, DSA_04092015.constant, DSA_04092015.coppersmithWinogradAlgorithm, DSA_04092015.deleteElementFromArray, DSA_04092015.deleteElementFromList, DSA_04092015.deleteElementFromSet, DSA_04092015.deleteGraphFromGraph, DSA_04092015.depthFirstSearch, DSA_04092015.dictionary, DSA_04092015.dijkstrasAlgorithm, DSA_04092015.directOrganization, DSA_04092015.diskSort, DSA_04092015.divideAndConquer, DSA_04092015.doubleEndedQueue, DSA_04092015.doublyLinkedList, DSA_04092015.dynamicProgramming, DSA_04092015.dynamicSet, DSA_04092015.edmondsKarpAlgorithm, DSA_04092015.exp, DSA_04092015.extractMin, DSA_04092015.fibonacciSearch, DSA_04092015.file, DSA_04092015.openFile, DSA_04092015.readFile, DSA_04092015.writeFile, DSA_04092015.find, DSA_04092015.findMin, DSA_04092015.floydWarshallAlgorithm, DSA_04092015.fordFulkersonAlgorithm, DSA_04092015.frozenSet, DSA_04092015.fullTree, DSA_04092015.grahamScan, DSA_04092015.greedyMethod, DSA_04092015.hashMap, DSA_04092015.hashTable, DSA_04092015.hashing, DSA_04092015.heapSort, DSA_04092015.n_log_n, DSA_04092015.indexedOrganization, DSA_04092015.inputRestrictedDeque, DSA_04092015.insertElementIntoArray, DSA_04092015.insertElementIntoGraph, DSA_04092015.insertElementIntoList, DSA_04092015.insertElementIntoSet, DSA_04092015.insertionSort, DSA_04092015.jarvisMarch, DSA_04092015.johnsonAlgorithm, DSA_04092015.knuthMorrisPrattAlgorithm, DSA_04092015.kruskalsAlgorithm, DSA_04092015.levelOrderTraversal, DSA_04092015.linearQueue, DSA_04092015.linearSearch, DSA_04092015.log_n, DSA_04092015.m_plus_n, DSA_04092015.makeSet, DSA_04092015.mergeSort, DSA_04092015.multiDimensionalArray, DSA_04092015.multiGraph, DSA_04092015.mutableSet, DSA_04092015.n, DSA_04092015.n_exp_3, DSA_04092015.nullGraph, DSA_04092015.oneDimensionalArray, DSA_04092015.orderedArray, DSA_04092015.outputRestrictedDeque, DSA_04092015.perfectTree, DSA_04092015.primsAlgorithm, DSA_04092015.priorityQueue, DSA_04092015.push, DSA_04092015.quickSort, DSA_04092015.radixSort, DSA_04092015.randomAccess, DSA_04092015.redBlackTree, DSA_04092015.robinKarpAlgorithm, DSA_04092015.searchArray, DSA_04092015.searchGraph, DSA_04092015.searchList, DSA_04092015.searchQueue, DSA_04092015.searchSet, DSA_04092015.seek, DSA_04092015.selectionSort, DSA_04092015.sequentialAccess, DSA_04092015.sequentialOrganization, DSA_04092015.shellSort, DSA_04092015.simpleGraph, DSA_04092015.singlyLinkedList, DSA_04092015.skewedTree, DSA_04092015.stack, DSA_04092015.staticSet, DSA_04092015.strassenAlgorithm, DSA_04092015.tapeSort, DSA_04092015.union, DSA_04092015.unorderedArray, DSA_04092015.vector, DSA_04092015.232twoThreeTree, DSA_04092015.234twoThreeFourTree, DSA_04092015.A*aStar, DSA_04092015.p[pop]\n"
     ]
    }
   ],
   "source": [
    "individuals_list = list(onto.individuals())\n",
    "print(individuals_list)"
   ]
  },
  {
   "cell_type": "code",
   "execution_count": 61,
   "metadata": {},
   "outputs": [],
   "source": [
    "with onto:\n",
    "    class STATIC_SET(Thing):\n",
    "        pass\n"
   ]
  },
  {
   "cell_type": "code",
   "execution_count": 62,
   "metadata": {},
   "outputs": [
    {
     "data": {
      "text/plain": [
       "{DSA_04092015.ADT,\n",
       " DSA_04092015.FROZEN_SET,\n",
       " DSA_04092015.SET,\n",
       " DSA_04092015.STATIC_SET,\n",
       " owl.Thing}"
      ]
     },
     "execution_count": 62,
     "metadata": {},
     "output_type": "execute_result"
    }
   ],
   "source": [
    "STATIC_SET.ancestors()"
   ]
  },
  {
   "cell_type": "code",
   "execution_count": 63,
   "metadata": {},
   "outputs": [
    {
     "data": {
      "text/plain": [
       "{DSA_04092015.DYNAMIC_SET,\n",
       " DSA_04092015.FROZEN_SET,\n",
       " DSA_04092015.MUTABLE_SET,\n",
       " DSA_04092015.SET,\n",
       " DSA_04092015.STATIC_SET}"
      ]
     },
     "execution_count": 63,
     "metadata": {},
     "output_type": "execute_result"
    }
   ],
   "source": [
    "SET.descendants()"
   ]
  },
  {
   "cell_type": "code",
   "execution_count": 64,
   "metadata": {},
   "outputs": [
    {
     "data": {
      "text/plain": [
       "[DSA_04092015.dynamicSet, DSA_04092015.mutableSet, DSA_04092015.frozenSet, DSA_04092015.staticSet]"
      ]
     },
     "execution_count": 64,
     "metadata": {},
     "output_type": "execute_result"
    }
   ],
   "source": [
    "SET.instances()"
   ]
  },
  {
   "cell_type": "code",
   "execution_count": null,
   "metadata": {},
   "outputs": [],
   "source": []
  }
 ],
 "metadata": {
  "kernelspec": {
   "display_name": "Python 3",
   "language": "python",
   "name": "python3"
  },
  "language_info": {
   "codemirror_mode": {
    "name": "ipython",
    "version": 3
   },
   "file_extension": ".py",
   "mimetype": "text/x-python",
   "name": "python",
   "nbconvert_exporter": "python",
   "pygments_lexer": "ipython3",
   "version": "3.8.5"
  }
 },
 "nbformat": 4,
 "nbformat_minor": 4
}
