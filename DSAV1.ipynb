{
 "cells": [
  {
   "cell_type": "code",
   "execution_count": 9,
   "metadata": {},
   "outputs": [
    {
     "data": {
      "text/plain": [
       "get_ontology(\"http://www.owl-ontologies.com/GDS.owl#\")"
      ]
     },
     "execution_count": 9,
     "metadata": {},
     "output_type": "execute_result"
    }
   ],
   "source": [
    "from owlready2 import *\n",
    "inferences = get_ontology(\"file:////home/rubaiya/Downloads/Ontology_v1.owl\")\n",
    "inferences.load()"
   ]
  },
  {
   "cell_type": "code",
   "execution_count": 11,
   "metadata": {},
   "outputs": [
    {
     "data": {
      "text/plain": [
       "[]"
      ]
     },
     "execution_count": 11,
     "metadata": {},
     "output_type": "execute_result"
    }
   ],
   "source": [
    "list(default_world.inconsistent_classes())"
   ]
  },
  {
   "cell_type": "code",
   "execution_count": 14,
   "metadata": {},
   "outputs": [],
   "source": [
    "class_list = list(inferences.classes())\n",
    "#print(class_list)"
   ]
  },
  {
   "cell_type": "code",
   "execution_count": 41,
   "metadata": {},
   "outputs": [
    {
     "name": "stderr",
     "output_type": "stream",
     "text": [
      "* Owlready2 * Running HermiT...\n",
      "    java -Xmx2000M -cp /home/rubaiya/.local/lib/python3.8/site-packages/owlready2/hermit:/home/rubaiya/.local/lib/python3.8/site-packages/owlready2/hermit/HermiT.jar org.semanticweb.HermiT.cli.CommandLine -c -O -D -I file:////tmp/tmp2_5gxnps\n",
      "* Owlready2 * HermiT took 0.7664055824279785 seconds\n",
      "* Owlready * Equivalenting: Ontology_v1.HASH_MAP Ontology_v1.HASH_TABLE\n",
      "* Owlready * Equivalenting: Ontology_v1.HASH_TABLE Ontology_v1.HASH_MAP\n",
      "* Owlready * Equivalenting: Ontology_v1.FROZEN_SET Ontology_v1.STATIC_SET\n",
      "* Owlready * Equivalenting: Ontology_v1.STATIC_SET Ontology_v1.FROZEN_SET\n",
      "* Owlready * Equivalenting: Ontology_v1.DYNAMIC_SET Ontology_v1.MUTABLE_SET\n",
      "* Owlready * Equivalenting: Ontology_v1.MUTABLE_SET Ontology_v1.DYNAMIC_SET\n",
      "* Owlready * (NB: only changes on entities loaded in Python are shown, other changes are done but not listed)\n"
     ]
    }
   ],
   "source": [
    "with inferences:\n",
    "    sync_reasoner()"
   ]
  },
  {
   "cell_type": "code",
   "execution_count": 42,
   "metadata": {},
   "outputs": [
    {
     "name": "stdout",
     "output_type": "stream",
     "text": [
      "consistent\n",
      "consistent\n",
      "consistent\n",
      "consistent\n",
      "consistent\n",
      "consistent\n",
      "consistent\n",
      "consistent\n",
      "consistent\n",
      "consistent\n",
      "consistent\n",
      "consistent\n",
      "consistent\n",
      "consistent\n",
      "consistent\n",
      "consistent\n",
      "consistent\n",
      "consistent\n",
      "consistent\n",
      "consistent\n",
      "consistent\n",
      "consistent\n",
      "consistent\n",
      "consistent\n",
      "consistent\n",
      "consistent\n",
      "consistent\n",
      "consistent\n",
      "consistent\n",
      "consistent\n",
      "consistent\n",
      "consistent\n",
      "consistent\n",
      "consistent\n",
      "consistent\n",
      "consistent\n",
      "consistent\n",
      "consistent\n",
      "consistent\n",
      "consistent\n",
      "consistent\n",
      "consistent\n",
      "consistent\n",
      "consistent\n",
      "consistent\n",
      "consistent\n",
      "consistent\n",
      "consistent\n",
      "consistent\n",
      "consistent\n",
      "consistent\n",
      "consistent\n",
      "consistent\n",
      "consistent\n",
      "consistent\n",
      "consistent\n",
      "consistent\n",
      "consistent\n",
      "consistent\n",
      "consistent\n",
      "consistent\n",
      "consistent\n",
      "consistent\n",
      "consistent\n",
      "consistent\n",
      "consistent\n",
      "consistent\n",
      "consistent\n",
      "consistent\n",
      "consistent\n",
      "consistent\n",
      "consistent\n",
      "consistent\n",
      "consistent\n",
      "consistent\n",
      "consistent\n",
      "consistent\n",
      "consistent\n",
      "consistent\n",
      "consistent\n",
      "consistent\n",
      "consistent\n",
      "consistent\n",
      "consistent\n",
      "consistent\n",
      "consistent\n",
      "consistent\n",
      "consistent\n"
     ]
    }
   ],
   "source": [
    "classes = []\n",
    "for cls in class_list:\n",
    "\n",
    "    if Nothing in cls.equivalent_to:\n",
    "        print(\"incosistent\")\n",
    "    else:\n",
    "        print(\"consistent\")"
   ]
  },
  {
   "cell_type": "code",
   "execution_count": null,
   "metadata": {},
   "outputs": [],
   "source": []
  },
  {
   "cell_type": "code",
   "execution_count": null,
   "metadata": {},
   "outputs": [],
   "source": []
  }
 ],
 "metadata": {
  "kernelspec": {
   "display_name": "Python 3",
   "language": "python",
   "name": "python3"
  },
  "language_info": {
   "codemirror_mode": {
    "name": "ipython",
    "version": 3
   },
   "file_extension": ".py",
   "mimetype": "text/x-python",
   "name": "python",
   "nbconvert_exporter": "python",
   "pygments_lexer": "ipython3",
   "version": "3.8.5"
  }
 },
 "nbformat": 4,
 "nbformat_minor": 4
}
