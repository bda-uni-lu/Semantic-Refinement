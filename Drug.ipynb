{
 "cells": [
  {
   "cell_type": "code",
   "execution_count": 1,
   "id": "equipped-share",
   "metadata": {},
   "outputs": [],
   "source": [
    "from owlready2 import *\n",
    "onto = get_ontology(\"http://test.org/onto.owl\")\n",
    "\n",
    "with onto:\n",
    "    class Drug(Thing):\n",
    "        def take(self): print(\"I took a drug\")\n",
    "    class ActivePrinciple(Thing):\n",
    "        pass\n",
    "\n",
    "    class has_for_Ingredients(Drug >> ActivePrinciple):\n",
    "        python_name = \"has_ingredients\"\n",
    "\n",
    "    class Placebo(Drug):\n",
    "        equivalent_to = [Drug & Not(has_for_Ingredients.some(ActivePrinciple))]\n",
    "        def take(self): print(\"I took a placebo\")\n",
    "            \n",
    "    class SingleActivePrincipleDrug(Drug):\n",
    "        equivalent_to = [Drug & has_for_Ingredients.exactly(1, ActivePrinciple)]\n",
    "        def take(self): print(\"I took a drug with a single active principle\")\n",
    "            \n",
    "    class DrugAssociation(Drug):\n",
    "        equivalent_to = [Drug & has_for_Ingredients.min(2, ActivePrinciple)]\n",
    "        def take(self): print(\"I took a drug with active principles\")\n",
    "\n",
    "acetaminophen   = ActivePrinciple(\"acetaminophen\")\n",
    "amoxicillin     = ActivePrinciple(\"amoxicillin\")\n",
    "clavulanic_acid = ActivePrinciple(\"clavulanic_acid\")\n",
    "\n",
    "AllDifferent([acetaminophen, amoxicillin, clavulanic_acid])\n",
    "\n",
    "drug1 = Drug(has_ingredients = [acetaminophen])\n",
    "drug2 = Drug(has_ingredients = [amoxicillin, clavulanic_acid])\n",
    "drug3 = Drug(has_ingredients = [])\n",
    "\n",
    "close_world(Drug)\n"
   ]
  },
  {
   "cell_type": "code",
   "execution_count": 2,
   "id": "intensive-exemption",
   "metadata": {},
   "outputs": [
    {
     "name": "stderr",
     "output_type": "stream",
     "text": [
      "* Owlready2 * Running HermiT...\n",
      "    java -Xmx2000M -cp /usr/local/lib/python3.6/dist-packages/owlready2/hermit:/usr/local/lib/python3.6/dist-packages/owlready2/hermit/HermiT.jar org.semanticweb.HermiT.cli.CommandLine -c -O -D -I file:////tmp/tmpzuuo68zt\n",
      "* Owlready2 * HermiT took 0.3538222312927246 seconds\n",
      "* Owlready * Reparenting onto.drug2: {onto.Drug} => {onto.DrugAssociation}\n",
      "* Owlready * Reparenting onto.drug1: {onto.Drug} => {onto.SingleActivePrincipleDrug}\n",
      "* Owlready * Reparenting onto.drug3: {onto.Drug} => {onto.Placebo}\n",
      "* Owlready * (NB: only changes on entities loaded in Python are shown, other changes are done but not listed)\n"
     ]
    }
   ],
   "source": [
    "sync_reasoner()"
   ]
  },
  {
   "cell_type": "code",
   "execution_count": 3,
   "id": "loved-uzbekistan",
   "metadata": {},
   "outputs": [
    {
     "name": "stdout",
     "output_type": "stream",
     "text": [
      "drug2 new Classes: onto.DrugAssociation\n"
     ]
    }
   ],
   "source": [
    "print(\"drug2 new Classes:\", drug2.__class__)"
   ]
  },
  {
   "cell_type": "code",
   "execution_count": 4,
   "id": "democratic-mileage",
   "metadata": {},
   "outputs": [
    {
     "name": "stdout",
     "output_type": "stream",
     "text": [
      "I took a drug with a single active principle\n"
     ]
    }
   ],
   "source": [
    "drug1.take()"
   ]
  },
  {
   "cell_type": "code",
   "execution_count": 5,
   "id": "taken-dubai",
   "metadata": {},
   "outputs": [
    {
     "name": "stdout",
     "output_type": "stream",
     "text": [
      "I took a drug with active principles\n"
     ]
    }
   ],
   "source": [
    "drug2.take()"
   ]
  },
  {
   "cell_type": "code",
   "execution_count": 6,
   "id": "compressed-quest",
   "metadata": {},
   "outputs": [
    {
     "name": "stdout",
     "output_type": "stream",
     "text": [
      "I took a placebo\n"
     ]
    }
   ],
   "source": [
    "drug3.take()"
   ]
  },
  {
   "cell_type": "code",
   "execution_count": 7,
   "id": "harmful-supervisor",
   "metadata": {},
   "outputs": [
    {
     "data": {
      "text/plain": [
       "[onto.has_for_Ingredients.only(OneOf([onto.acetaminophen])),\n",
       " onto.SingleActivePrincipleDrug]"
      ]
     },
     "execution_count": 7,
     "metadata": {},
     "output_type": "execute_result"
    }
   ],
   "source": [
    "drug1.is_a"
   ]
  },
  {
   "cell_type": "code",
   "execution_count": 8,
   "id": "equal-latest",
   "metadata": {},
   "outputs": [],
   "source": [
    "onto.save(\"drug.owl\")"
   ]
  },
  {
   "cell_type": "code",
   "execution_count": 9,
   "id": "understood-empty",
   "metadata": {},
   "outputs": [
    {
     "data": {
      "text/plain": [
       "[onto.ActivePrinciple]"
      ]
     },
     "execution_count": 9,
     "metadata": {},
     "output_type": "execute_result"
    }
   ],
   "source": [
    "acetaminophen.is_a"
   ]
  },
  {
   "cell_type": "code",
   "execution_count": null,
   "id": "suburban-pollution",
   "metadata": {},
   "outputs": [],
   "source": []
  },
  {
   "cell_type": "code",
   "execution_count": null,
   "id": "streaming-notification",
   "metadata": {},
   "outputs": [],
   "source": []
  }
 ],
 "metadata": {
  "kernelspec": {
   "display_name": "Python 3",
   "language": "python",
   "name": "python3"
  },
  "language_info": {
   "codemirror_mode": {
    "name": "ipython",
    "version": 3
   },
   "file_extension": ".py",
   "mimetype": "text/x-python",
   "name": "python",
   "nbconvert_exporter": "python",
   "pygments_lexer": "ipython3",
   "version": "3.6.9"
  }
 },
 "nbformat": 4,
 "nbformat_minor": 5
}
