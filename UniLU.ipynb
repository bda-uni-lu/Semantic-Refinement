{
 "cells": [
  {
   "cell_type": "code",
   "execution_count": 1,
   "metadata": {},
   "outputs": [
    {
     "name": "stderr",
     "output_type": "stream",
     "text": [
      "* Owlready2 * Warning: optimized Cython parser module 'owlready2_optimized' is not available, defaulting to slower Python implementation\n"
     ]
    }
   ],
   "source": [
    "from owlready2 import *\n",
    "\n",
    "onto = get_ontology(\"http://test.org/lu7.owl\")"
   ]
  },
  {
   "cell_type": "code",
   "execution_count": 2,
   "metadata": {},
   "outputs": [],
   "source": [
    "with onto: \n",
    "    class Student(Thing):pass\n",
    "    class UNILUStudent(Student):pass\n",
    "\n",
    "    #class UNILUStudent(Student):pass\n",
    "    \n",
    "    class Teachingstaff(Thing):pass\n",
    "    class Professor(Teachingstaff):pass\n",
    "   \n",
    "    #class bob(Professor):pass \n",
    "    #class roy(Teachingstaff):pass\n",
    "    \n",
    "    class Assistprof(Teachingstaff):pass\n",
    "    #class alice(Assistprof):pass\n",
    "    \n",
    "    class has_advisor(Student>>Teachingstaff):pass\n",
    "    \n",
    "    #AllDifferent([bob, roy, alice])\n",
    "    #AllDisjoint([Professor, Assistprof]) \n",
    "    \n",
    "    "
   ]
  },
  {
   "cell_type": "code",
   "execution_count": 3,
   "metadata": {},
   "outputs": [],
   "source": [
    "    class UNILUStudent(Student): \n",
    "        equivalent_to = [ Student & ( has_advisor.only(Teachingstaff) ) & ( has_advisor.some(Professor) ) ]\n",
    "\n",
    "            \n",
    "    class UNILU_MS_Student(Student):\n",
    "        equivalent_to = [ UNILUStudent & ( has_advisor.max(1, Teachingstaff) ) ]\n",
    "    \n",
    "    class tom(UNILU_MS_Student):pass\n",
    "       \n",
    "    class UNILU_PHD_Student(Student):\n",
    "        equivalent_to = [ UNILUStudent & ( has_advisor.min(1, Teachingstaff) ) & ( has_advisor.max(1, Professor) ) ]\n",
    "    \n",
    "    class sam(UNILU_PHD_Student):pass\n",
    "    "
   ]
  },
  {
   "cell_type": "code",
   "execution_count": 4,
   "metadata": {},
   "outputs": [
    {
     "data": {
      "text/plain": [
       "AllDisjoint([lu7.UNILU_MS_Student, lu7.UNILU_PHD_Student])"
      ]
     },
     "execution_count": 4,
     "metadata": {},
     "output_type": "execute_result"
    }
   ],
   "source": [
    "    AllDisjoint([Professor, Assistprof]) \n",
    "    AllDifferent([UNILU_MS_Student, UNILU_PHD_Student])"
   ]
  },
  {
   "cell_type": "code",
   "execution_count": 5,
   "metadata": {},
   "outputs": [],
   "source": [
    "    bob = Teachingstaff(\"bob\")\n",
    "    roy = Teachingstaff(\"roy\")\n",
    "    alice = Teachingstaff(\"alice\")\n",
    "\n",
    "    AllDifferent([bob, roy, alice])\n",
    "    \n",
    "    s1 = Student(has_advisor = [])\n",
    "    s2 = Student(has_advisor = [bob])\n",
    "    s3 = Student(has_advisor = [alice, roy])"
   ]
  },
  {
   "cell_type": "code",
   "execution_count": 6,
   "metadata": {},
   "outputs": [
    {
     "name": "stderr",
     "output_type": "stream",
     "text": [
      "* Owlready2 * Running HermiT...\n",
      "    java -Xmx2000M -cp /home/rubaiya/.local/lib/python3.8/site-packages/owlready2/hermit:/home/rubaiya/.local/lib/python3.8/site-packages/owlready2/hermit/HermiT.jar org.semanticweb.HermiT.cli.CommandLine -c -O -D -I file:////tmp/tmp5ajfnef4\n",
      "* Owlready2 * HermiT took 0.43105220794677734 seconds\n",
      "* Owlready * Equivalenting: lu7.UNILU_MS_Student owl.Nothing\n",
      "* Owlready * Equivalenting: lu7.tom owl.Nothing\n",
      "* Owlready * Reparenting lu7.UNILU_PHD_Student: {lu7.Student} => {lu7.UNILUStudent}\n",
      "* Owlready * (NB: only changes on entities loaded in Python are shown, other changes are done but not listed)\n"
     ]
    }
   ],
   "source": [
    "with onto:\n",
    "    sync_reasoner()"
   ]
  },
  {
   "cell_type": "code",
   "execution_count": 7,
   "metadata": {},
   "outputs": [
    {
     "data": {
      "text/plain": [
       "[owl.Nothing, lu7.UNILU_MS_Student, lu7.tom]"
      ]
     },
     "execution_count": 7,
     "metadata": {},
     "output_type": "execute_result"
    }
   ],
   "source": [
    "list(default_world.inconsistent_classes())"
   ]
  },
  {
   "cell_type": "code",
   "execution_count": 8,
   "metadata": {},
   "outputs": [
    {
     "name": "stdout",
     "output_type": "stream",
     "text": [
      "incosistent\n"
     ]
    }
   ],
   "source": [
    "if Nothing in UNILU_MS_Student.equivalent_to:\n",
    "    print(\"incosistent\")\n",
    "else:\n",
    "    print(\"consistent\")"
   ]
  },
  {
   "cell_type": "code",
   "execution_count": 9,
   "metadata": {},
   "outputs": [],
   "source": [
    "onto.save(\"UniLU.owl\")"
   ]
  },
  {
   "cell_type": "code",
   "execution_count": null,
   "metadata": {},
   "outputs": [],
   "source": []
  }
 ],
 "metadata": {
  "kernelspec": {
   "display_name": "Python 3",
   "language": "python",
   "name": "python3"
  },
  "language_info": {
   "codemirror_mode": {
    "name": "ipython",
    "version": 3
   },
   "file_extension": ".py",
   "mimetype": "text/x-python",
   "name": "python",
   "nbconvert_exporter": "python",
   "pygments_lexer": "ipython3",
   "version": "3.8.5"
  }
 },
 "nbformat": 4,
 "nbformat_minor": 4
}
