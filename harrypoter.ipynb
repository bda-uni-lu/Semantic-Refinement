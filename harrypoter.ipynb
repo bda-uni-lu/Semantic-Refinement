{
 "cells": [
  {
   "cell_type": "code",
   "execution_count": 24,
   "metadata": {},
   "outputs": [],
   "source": [
    "from owlready2 import *\n",
    "onto = get_ontology(\"file:////home/rubaiya/Downloads/HarryPotter_book.owl\")\n",
    "onto.load()\n",
    "class_and_label = {'Creature' : 'Pet', 'HUman' : 'Muggle' , 'Student': 'HogStudent'}"
   ]
  },
  {
   "cell_type": "code",
   "execution_count": 25,
   "metadata": {},
   "outputs": [
    {
     "name": "stdout",
     "output_type": "stream",
     "text": [
      "[HarryPotter_book.Cat, HarryPotter_book.Pet, HarryPotter_book.Owl, HarryPotter_book.Rat, HarryPotter_book.Toad, HarryPotter_book.Creature, HarryPotter_book.DrumstrangStud, HarryPotter_book.HogStudent, HarryPotter_book.Gryffindor, HarryPotter_book.Slytherin, HarryPotter_book.Halfblood, HarryPotter_book.Muggle, HarryPotter_book.Pureblood, HarryPotter_book.Student, HarryPotter_book.Human, HarryPotter_book.Wizard, HarryPotter_book.Weasley]\n"
     ]
    }
   ],
   "source": [
    "classlist = list(onto.classes())\n",
    "label_list = []\n",
    "print(classlist)"
   ]
  },
  {
   "cell_type": "code",
   "execution_count": 26,
   "metadata": {},
   "outputs": [
    {
     "name": "stdout",
     "output_type": "stream",
     "text": [
      "[HarryPotter_book.crookshanks, HarryPotter_book.dracoMalfoy, HarryPotter_book.harryPotter, HarryPotter_book.errol, HarryPotter_book.hedwig, HarryPotter_book.hermione, HarryPotter_book.ronWeasley, HarryPotter_book.tomRiddle, HarryPotter_book.nevilleLongbottom, HarryPotter_book.trevor, HarryPotter_book.scrabber, HarryPotter_book.viktorKrum]\n"
     ]
    }
   ],
   "source": [
    "instance_list = list(onto.individuals())\n",
    "print(instance_list)"
   ]
  },
  {
   "cell_type": "code",
   "execution_count": 27,
   "metadata": {},
   "outputs": [],
   "source": [
    "with onto:\n",
    "     class Rat(Thing):\n",
    "         pass"
   ]
  },
  {
   "cell_type": "code",
   "execution_count": 28,
   "metadata": {},
   "outputs": [
    {
     "data": {
      "text/plain": [
       "{HarryPotter_book.Creature,\n",
       " HarryPotter_book.Pet,\n",
       " HarryPotter_book.Rat,\n",
       " owl.Thing}"
      ]
     },
     "execution_count": 28,
     "metadata": {},
     "output_type": "execute_result"
    }
   ],
   "source": [
    "Rat.ancestors()"
   ]
  },
  {
   "cell_type": "code",
   "execution_count": 29,
   "metadata": {},
   "outputs": [
    {
     "name": "stdout",
     "output_type": "stream",
     "text": [
      "HarryPotter_book.scrabber\n"
     ]
    }
   ],
   "source": [
    "for i in Rat.instances(): print(i)"
   ]
  },
  {
   "cell_type": "code",
   "execution_count": 30,
   "metadata": {
    "scrolled": true
   },
   "outputs": [],
   "source": [
    "with onto:\n",
    "    class Creature(Thing):\n",
    "        pass\n"
   ]
  },
  {
   "cell_type": "code",
   "execution_count": 31,
   "metadata": {},
   "outputs": [
    {
     "name": "stdout",
     "output_type": "stream",
     "text": [
      "HarryPotter_book.crookshanks\n",
      "HarryPotter_book.errol\n",
      "HarryPotter_book.hedwig\n",
      "HarryPotter_book.scrabber\n",
      "HarryPotter_book.trevor\n"
     ]
    }
   ],
   "source": [
    "for i in Creature.instances(): print(i)"
   ]
  },
  {
   "cell_type": "code",
   "execution_count": 32,
   "metadata": {},
   "outputs": [
    {
     "name": "stdout",
     "output_type": "stream",
     "text": [
      "[HarryPotter_book.crookshanks]\n",
      "[HarryPotter_book.crookshanks, HarryPotter_book.errol, HarryPotter_book.hedwig, HarryPotter_book.scrabber, HarryPotter_book.trevor]\n",
      "[HarryPotter_book.errol, HarryPotter_book.hedwig]\n",
      "[HarryPotter_book.scrabber]\n",
      "[HarryPotter_book.trevor]\n",
      "[HarryPotter_book.crookshanks, HarryPotter_book.errol, HarryPotter_book.hedwig, HarryPotter_book.scrabber, HarryPotter_book.trevor]\n",
      "[HarryPotter_book.viktorKrum]\n",
      "[HarryPotter_book.dracoMalfoy, HarryPotter_book.harryPotter, HarryPotter_book.hermione, HarryPotter_book.ronWeasley, HarryPotter_book.nevilleLongbottom]\n",
      "[HarryPotter_book.harryPotter, HarryPotter_book.hermione, HarryPotter_book.ronWeasley, HarryPotter_book.nevilleLongbottom]\n",
      "[HarryPotter_book.dracoMalfoy, HarryPotter_book.tomRiddle]\n",
      "[HarryPotter_book.harryPotter]\n",
      "[HarryPotter_book.hermione]\n",
      "[HarryPotter_book.dracoMalfoy, HarryPotter_book.ronWeasley]\n",
      "[HarryPotter_book.dracoMalfoy, HarryPotter_book.harryPotter, HarryPotter_book.hermione, HarryPotter_book.ronWeasley, HarryPotter_book.nevilleLongbottom]\n",
      "[HarryPotter_book.hermione, HarryPotter_book.dracoMalfoy, HarryPotter_book.harryPotter, HarryPotter_book.ronWeasley, HarryPotter_book.nevilleLongbottom]\n",
      "[HarryPotter_book.dracoMalfoy, HarryPotter_book.harryPotter, HarryPotter_book.tomRiddle, HarryPotter_book.nevilleLongbottom, HarryPotter_book.viktorKrum]\n",
      "[HarryPotter_book.ronWeasley]\n"
     ]
    }
   ],
   "source": [
    "for i in classlist:\n",
    "    instances = list(i.instances())\n",
    "    print(instances)"
   ]
  },
  {
   "cell_type": "code",
   "execution_count": 33,
   "metadata": {},
   "outputs": [
    {
     "name": "stdout",
     "output_type": "stream",
     "text": [
      "[HarryPotter_book.crookshanks] [HarryPotter_book.Cat, HarryPotter_book.Pet, HarryPotter_book.Owl, HarryPotter_book.Rat, HarryPotter_book.Toad, HarryPotter_book.Creature, HarryPotter_book.DrumstrangStud, HarryPotter_book.HogStudent, HarryPotter_book.Gryffindor, HarryPotter_book.Slytherin, HarryPotter_book.Halfblood, HarryPotter_book.Muggle, HarryPotter_book.Pureblood, HarryPotter_book.Student, HarryPotter_book.Human, HarryPotter_book.Wizard, HarryPotter_book.Weasley]\n",
      "[HarryPotter_book.crookshanks, HarryPotter_book.errol, HarryPotter_book.hedwig, HarryPotter_book.scrabber, HarryPotter_book.trevor] [HarryPotter_book.Cat, HarryPotter_book.Pet, HarryPotter_book.Owl, HarryPotter_book.Rat, HarryPotter_book.Toad, HarryPotter_book.Creature, HarryPotter_book.DrumstrangStud, HarryPotter_book.HogStudent, HarryPotter_book.Gryffindor, HarryPotter_book.Slytherin, HarryPotter_book.Halfblood, HarryPotter_book.Muggle, HarryPotter_book.Pureblood, HarryPotter_book.Student, HarryPotter_book.Human, HarryPotter_book.Wizard, HarryPotter_book.Weasley]\n",
      "[HarryPotter_book.errol, HarryPotter_book.hedwig] [HarryPotter_book.Cat, HarryPotter_book.Pet, HarryPotter_book.Owl, HarryPotter_book.Rat, HarryPotter_book.Toad, HarryPotter_book.Creature, HarryPotter_book.DrumstrangStud, HarryPotter_book.HogStudent, HarryPotter_book.Gryffindor, HarryPotter_book.Slytherin, HarryPotter_book.Halfblood, HarryPotter_book.Muggle, HarryPotter_book.Pureblood, HarryPotter_book.Student, HarryPotter_book.Human, HarryPotter_book.Wizard, HarryPotter_book.Weasley]\n",
      "[HarryPotter_book.scrabber] [HarryPotter_book.Cat, HarryPotter_book.Pet, HarryPotter_book.Owl, HarryPotter_book.Rat, HarryPotter_book.Toad, HarryPotter_book.Creature, HarryPotter_book.DrumstrangStud, HarryPotter_book.HogStudent, HarryPotter_book.Gryffindor, HarryPotter_book.Slytherin, HarryPotter_book.Halfblood, HarryPotter_book.Muggle, HarryPotter_book.Pureblood, HarryPotter_book.Student, HarryPotter_book.Human, HarryPotter_book.Wizard, HarryPotter_book.Weasley]\n",
      "[HarryPotter_book.trevor] [HarryPotter_book.Cat, HarryPotter_book.Pet, HarryPotter_book.Owl, HarryPotter_book.Rat, HarryPotter_book.Toad, HarryPotter_book.Creature, HarryPotter_book.DrumstrangStud, HarryPotter_book.HogStudent, HarryPotter_book.Gryffindor, HarryPotter_book.Slytherin, HarryPotter_book.Halfblood, HarryPotter_book.Muggle, HarryPotter_book.Pureblood, HarryPotter_book.Student, HarryPotter_book.Human, HarryPotter_book.Wizard, HarryPotter_book.Weasley]\n",
      "[HarryPotter_book.crookshanks, HarryPotter_book.errol, HarryPotter_book.hedwig, HarryPotter_book.scrabber, HarryPotter_book.trevor] [HarryPotter_book.Cat, HarryPotter_book.Pet, HarryPotter_book.Owl, HarryPotter_book.Rat, HarryPotter_book.Toad, HarryPotter_book.Creature, HarryPotter_book.DrumstrangStud, HarryPotter_book.HogStudent, HarryPotter_book.Gryffindor, HarryPotter_book.Slytherin, HarryPotter_book.Halfblood, HarryPotter_book.Muggle, HarryPotter_book.Pureblood, HarryPotter_book.Student, HarryPotter_book.Human, HarryPotter_book.Wizard, HarryPotter_book.Weasley]\n",
      "[HarryPotter_book.viktorKrum] [HarryPotter_book.Cat, HarryPotter_book.Pet, HarryPotter_book.Owl, HarryPotter_book.Rat, HarryPotter_book.Toad, HarryPotter_book.Creature, HarryPotter_book.DrumstrangStud, HarryPotter_book.HogStudent, HarryPotter_book.Gryffindor, HarryPotter_book.Slytherin, HarryPotter_book.Halfblood, HarryPotter_book.Muggle, HarryPotter_book.Pureblood, HarryPotter_book.Student, HarryPotter_book.Human, HarryPotter_book.Wizard, HarryPotter_book.Weasley]\n",
      "[HarryPotter_book.dracoMalfoy, HarryPotter_book.harryPotter, HarryPotter_book.hermione, HarryPotter_book.ronWeasley, HarryPotter_book.nevilleLongbottom] [HarryPotter_book.Cat, HarryPotter_book.Pet, HarryPotter_book.Owl, HarryPotter_book.Rat, HarryPotter_book.Toad, HarryPotter_book.Creature, HarryPotter_book.DrumstrangStud, HarryPotter_book.HogStudent, HarryPotter_book.Gryffindor, HarryPotter_book.Slytherin, HarryPotter_book.Halfblood, HarryPotter_book.Muggle, HarryPotter_book.Pureblood, HarryPotter_book.Student, HarryPotter_book.Human, HarryPotter_book.Wizard, HarryPotter_book.Weasley]\n",
      "[HarryPotter_book.harryPotter, HarryPotter_book.hermione, HarryPotter_book.ronWeasley, HarryPotter_book.nevilleLongbottom] [HarryPotter_book.Cat, HarryPotter_book.Pet, HarryPotter_book.Owl, HarryPotter_book.Rat, HarryPotter_book.Toad, HarryPotter_book.Creature, HarryPotter_book.DrumstrangStud, HarryPotter_book.HogStudent, HarryPotter_book.Gryffindor, HarryPotter_book.Slytherin, HarryPotter_book.Halfblood, HarryPotter_book.Muggle, HarryPotter_book.Pureblood, HarryPotter_book.Student, HarryPotter_book.Human, HarryPotter_book.Wizard, HarryPotter_book.Weasley]\n",
      "[HarryPotter_book.dracoMalfoy, HarryPotter_book.tomRiddle] [HarryPotter_book.Cat, HarryPotter_book.Pet, HarryPotter_book.Owl, HarryPotter_book.Rat, HarryPotter_book.Toad, HarryPotter_book.Creature, HarryPotter_book.DrumstrangStud, HarryPotter_book.HogStudent, HarryPotter_book.Gryffindor, HarryPotter_book.Slytherin, HarryPotter_book.Halfblood, HarryPotter_book.Muggle, HarryPotter_book.Pureblood, HarryPotter_book.Student, HarryPotter_book.Human, HarryPotter_book.Wizard, HarryPotter_book.Weasley]\n",
      "[HarryPotter_book.harryPotter] [HarryPotter_book.Cat, HarryPotter_book.Pet, HarryPotter_book.Owl, HarryPotter_book.Rat, HarryPotter_book.Toad, HarryPotter_book.Creature, HarryPotter_book.DrumstrangStud, HarryPotter_book.HogStudent, HarryPotter_book.Gryffindor, HarryPotter_book.Slytherin, HarryPotter_book.Halfblood, HarryPotter_book.Muggle, HarryPotter_book.Pureblood, HarryPotter_book.Student, HarryPotter_book.Human, HarryPotter_book.Wizard, HarryPotter_book.Weasley]\n",
      "[HarryPotter_book.hermione] [HarryPotter_book.Cat, HarryPotter_book.Pet, HarryPotter_book.Owl, HarryPotter_book.Rat, HarryPotter_book.Toad, HarryPotter_book.Creature, HarryPotter_book.DrumstrangStud, HarryPotter_book.HogStudent, HarryPotter_book.Gryffindor, HarryPotter_book.Slytherin, HarryPotter_book.Halfblood, HarryPotter_book.Muggle, HarryPotter_book.Pureblood, HarryPotter_book.Student, HarryPotter_book.Human, HarryPotter_book.Wizard, HarryPotter_book.Weasley]\n",
      "[HarryPotter_book.dracoMalfoy, HarryPotter_book.ronWeasley] [HarryPotter_book.Cat, HarryPotter_book.Pet, HarryPotter_book.Owl, HarryPotter_book.Rat, HarryPotter_book.Toad, HarryPotter_book.Creature, HarryPotter_book.DrumstrangStud, HarryPotter_book.HogStudent, HarryPotter_book.Gryffindor, HarryPotter_book.Slytherin, HarryPotter_book.Halfblood, HarryPotter_book.Muggle, HarryPotter_book.Pureblood, HarryPotter_book.Student, HarryPotter_book.Human, HarryPotter_book.Wizard, HarryPotter_book.Weasley]\n",
      "[HarryPotter_book.dracoMalfoy, HarryPotter_book.harryPotter, HarryPotter_book.hermione, HarryPotter_book.ronWeasley, HarryPotter_book.nevilleLongbottom] [HarryPotter_book.Cat, HarryPotter_book.Pet, HarryPotter_book.Owl, HarryPotter_book.Rat, HarryPotter_book.Toad, HarryPotter_book.Creature, HarryPotter_book.DrumstrangStud, HarryPotter_book.HogStudent, HarryPotter_book.Gryffindor, HarryPotter_book.Slytherin, HarryPotter_book.Halfblood, HarryPotter_book.Muggle, HarryPotter_book.Pureblood, HarryPotter_book.Student, HarryPotter_book.Human, HarryPotter_book.Wizard, HarryPotter_book.Weasley]\n",
      "[HarryPotter_book.hermione, HarryPotter_book.dracoMalfoy, HarryPotter_book.harryPotter, HarryPotter_book.ronWeasley, HarryPotter_book.nevilleLongbottom] [HarryPotter_book.Cat, HarryPotter_book.Pet, HarryPotter_book.Owl, HarryPotter_book.Rat, HarryPotter_book.Toad, HarryPotter_book.Creature, HarryPotter_book.DrumstrangStud, HarryPotter_book.HogStudent, HarryPotter_book.Gryffindor, HarryPotter_book.Slytherin, HarryPotter_book.Halfblood, HarryPotter_book.Muggle, HarryPotter_book.Pureblood, HarryPotter_book.Student, HarryPotter_book.Human, HarryPotter_book.Wizard, HarryPotter_book.Weasley]\n",
      "[HarryPotter_book.dracoMalfoy, HarryPotter_book.harryPotter, HarryPotter_book.tomRiddle, HarryPotter_book.nevilleLongbottom, HarryPotter_book.viktorKrum] [HarryPotter_book.Cat, HarryPotter_book.Pet, HarryPotter_book.Owl, HarryPotter_book.Rat, HarryPotter_book.Toad, HarryPotter_book.Creature, HarryPotter_book.DrumstrangStud, HarryPotter_book.HogStudent, HarryPotter_book.Gryffindor, HarryPotter_book.Slytherin, HarryPotter_book.Halfblood, HarryPotter_book.Muggle, HarryPotter_book.Pureblood, HarryPotter_book.Student, HarryPotter_book.Human, HarryPotter_book.Wizard, HarryPotter_book.Weasley]\n",
      "[HarryPotter_book.ronWeasley] [HarryPotter_book.Cat, HarryPotter_book.Pet, HarryPotter_book.Owl, HarryPotter_book.Rat, HarryPotter_book.Toad, HarryPotter_book.Creature, HarryPotter_book.DrumstrangStud, HarryPotter_book.HogStudent, HarryPotter_book.Gryffindor, HarryPotter_book.Slytherin, HarryPotter_book.Halfblood, HarryPotter_book.Muggle, HarryPotter_book.Pureblood, HarryPotter_book.Student, HarryPotter_book.Human, HarryPotter_book.Wizard, HarryPotter_book.Weasley]\n"
     ]
    }
   ],
   "source": [
    "for i in classlist:\n",
    "    instances = list(i.instances())\n",
    "    print(instances, classlist)"
   ]
  },
  {
   "cell_type": "code",
   "execution_count": 34,
   "metadata": {},
   "outputs": [],
   "source": [
    "for a in classlist:\n",
    "    label_list.append(a.label)"
   ]
  },
  {
   "cell_type": "code",
   "execution_count": 35,
   "metadata": {},
   "outputs": [
    {
     "name": "stdout",
     "output_type": "stream",
     "text": [
      "[HarryPotter_book.Pet, HarryPotter_book.Creature, HarryPotter_book.Cat, owl.Thing]\n",
      "[HarryPotter_book.Pet, HarryPotter_book.Creature, owl.Thing]\n",
      "[HarryPotter_book.Pet, HarryPotter_book.Creature, owl.Thing, HarryPotter_book.Owl]\n",
      "[HarryPotter_book.Pet, HarryPotter_book.Rat, owl.Thing, HarryPotter_book.Creature]\n",
      "[HarryPotter_book.Pet, HarryPotter_book.Creature, HarryPotter_book.Toad, owl.Thing]\n",
      "[HarryPotter_book.Creature, owl.Thing]\n",
      "[owl.Thing, HarryPotter_book.DrumstrangStud]\n",
      "[HarryPotter_book.HogStudent, HarryPotter_book.Human, HarryPotter_book.Student, owl.Thing]\n",
      "[HarryPotter_book.Gryffindor, owl.Thing]\n",
      "[HarryPotter_book.Slytherin, owl.Thing]\n",
      "[owl.Thing, HarryPotter_book.Halfblood]\n",
      "[HarryPotter_book.Human, HarryPotter_book.Muggle, owl.Thing]\n",
      "[HarryPotter_book.Pureblood, owl.Thing]\n",
      "[HarryPotter_book.Human, HarryPotter_book.Student, owl.Thing]\n",
      "[HarryPotter_book.Human, owl.Thing]\n",
      "[HarryPotter_book.Wizard, owl.Thing]\n",
      "[HarryPotter_book.Weasley, owl.Thing]\n"
     ]
    }
   ],
   "source": [
    "for a in classlist:\n",
    "    ancestors = list(a.ancestors())\n",
    "    print(ancestors)\n",
    "    "
   ]
  },
  {
   "cell_type": "code",
   "execution_count": 36,
   "metadata": {},
   "outputs": [
    {
     "name": "stdout",
     "output_type": "stream",
     "text": [
      "[HarryPotter_book.crookshanks, HarryPotter_book.dracoMalfoy, HarryPotter_book.harryPotter, HarryPotter_book.errol, HarryPotter_book.hedwig, HarryPotter_book.hermione, HarryPotter_book.ronWeasley, HarryPotter_book.tomRiddle, HarryPotter_book.nevilleLongbottom, HarryPotter_book.trevor, HarryPotter_book.scrabber, HarryPotter_book.viktorKrum]\n"
     ]
    }
   ],
   "source": [
    "individuals_list = list(onto.individuals())\n",
    "print(individuals_list)"
   ]
  },
  {
   "cell_type": "code",
   "execution_count": 37,
   "metadata": {},
   "outputs": [],
   "source": [
    "with onto:\n",
    "    class Pet(Thing):\n",
    "        pass"
   ]
  },
  {
   "cell_type": "code",
   "execution_count": 38,
   "metadata": {},
   "outputs": [
    {
     "name": "stdout",
     "output_type": "stream",
     "text": [
      "HarryPotter_book.crookshanks\n",
      "HarryPotter_book.errol\n",
      "HarryPotter_book.hedwig\n",
      "HarryPotter_book.scrabber\n",
      "HarryPotter_book.trevor\n"
     ]
    }
   ],
   "source": [
    "for i in Pet.instances(): print(i)"
   ]
  },
  {
   "cell_type": "code",
   "execution_count": 39,
   "metadata": {},
   "outputs": [],
   "source": [
    "with onto:\n",
    "    class Human(Thing):\n",
    "        pass"
   ]
  },
  {
   "cell_type": "code",
   "execution_count": 23,
   "metadata": {},
   "outputs": [
    {
     "name": "stdout",
     "output_type": "stream",
     "text": [
      "HarryPotter_book.hermione\n",
      "HarryPotter_book.dracoMalfoy\n",
      "HarryPotter_book.harryPotter\n",
      "HarryPotter_book.ronWeasley\n",
      "HarryPotter_book.nevilleLongbottom\n"
     ]
    }
   ],
   "source": [
    "for i in Human.instances(): print(i)"
   ]
  },
  {
   "cell_type": "code",
   "execution_count": null,
   "metadata": {},
   "outputs": [],
   "source": []
  }
 ],
 "metadata": {
  "kernelspec": {
   "display_name": "Python 3",
   "language": "python",
   "name": "python3"
  },
  "language_info": {
   "codemirror_mode": {
    "name": "ipython",
    "version": 3
   },
   "file_extension": ".py",
   "mimetype": "text/x-python",
   "name": "python",
   "nbconvert_exporter": "python",
   "pygments_lexer": "ipython3",
   "version": "3.8.5"
  }
 },
 "nbformat": 4,
 "nbformat_minor": 4
}
