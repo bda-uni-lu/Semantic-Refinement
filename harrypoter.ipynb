{
 "cells": [
  {
   "cell_type": "code",
   "execution_count": 101,
   "metadata": {},
   "outputs": [
    {
     "data": {
      "text/plain": [
       "get_ontology(\"http://www.semanticweb.org/vinu/ontologies/2014/2/untitled-ontology-55#\")"
      ]
     },
     "execution_count": 101,
     "metadata": {},
     "output_type": "execute_result"
    }
   ],
   "source": [
    "from owlready2 import *\n",
    "onto = get_ontology(\"file:////home/rubaiya/Downloads/HarryPotter_book.owl\")\n",
    "onto.load()"
   ]
  },
  {
   "cell_type": "code",
   "execution_count": 102,
   "metadata": {},
   "outputs": [
    {
     "name": "stdout",
     "output_type": "stream",
     "text": [
      "[HarryPotter_book.Cat, HarryPotter_book.Pet, HarryPotter_book.Owl, HarryPotter_book.Rat, HarryPotter_book.Toad, HarryPotter_book.Creature, HarryPotter_book.DrumstrangStud, HarryPotter_book.HogStudent, HarryPotter_book.Gryffindor, HarryPotter_book.Slytherin, HarryPotter_book.Halfblood, HarryPotter_book.Muggle, HarryPotter_book.Pureblood, HarryPotter_book.Student, HarryPotter_book.Human, HarryPotter_book.Wizard, HarryPotter_book.Weasley]\n"
     ]
    }
   ],
   "source": [
    "classlist = list(onto.classes())\n",
    "print(classlist)"
   ]
  },
  {
   "cell_type": "code",
   "execution_count": 103,
   "metadata": {},
   "outputs": [
    {
     "name": "stdout",
     "output_type": "stream",
     "text": [
      "[HarryPotter_book.crookshanks, HarryPotter_book.dracoMalfoy, HarryPotter_book.harryPotter, HarryPotter_book.errol, HarryPotter_book.hedwig, HarryPotter_book.hermione, HarryPotter_book.ronWeasley, HarryPotter_book.tomRiddle, HarryPotter_book.nevilleLongbottom, HarryPotter_book.trevor, HarryPotter_book.scrabber, HarryPotter_book.viktorKrum]\n"
     ]
    }
   ],
   "source": [
    "instance_name = list(onto.individuals())\n",
    "print(instance_name)"
   ]
  },
  {
   "cell_type": "code",
   "execution_count": 104,
   "metadata": {},
   "outputs": [
    {
     "name": "stdout",
     "output_type": "stream",
     "text": [
      "HarryPotter_book.crookshanks\n",
      "[HarryPotter_book.Cat, HarryPotter_book.Pet, HarryPotter_book.Creature]\n",
      "\n",
      "----------------------------------------\n",
      "\n",
      "HarryPotter_book.dracoMalfoy\n",
      "[HarryPotter_book.HogStudent, HarryPotter_book.Slytherin, HarryPotter_book.Pureblood, HarryPotter_book.Student, HarryPotter_book.Human, HarryPotter_book.Wizard]\n",
      "\n",
      "----------------------------------------\n",
      "\n",
      "HarryPotter_book.harryPotter\n",
      "[HarryPotter_book.HogStudent, HarryPotter_book.Gryffindor, HarryPotter_book.Halfblood, HarryPotter_book.Student, HarryPotter_book.Human, HarryPotter_book.Wizard]\n",
      "\n",
      "----------------------------------------\n",
      "\n",
      "HarryPotter_book.errol\n",
      "[HarryPotter_book.Pet, HarryPotter_book.Owl, HarryPotter_book.Creature]\n",
      "\n",
      "----------------------------------------\n",
      "\n",
      "HarryPotter_book.hedwig\n",
      "[HarryPotter_book.Pet, HarryPotter_book.Owl, HarryPotter_book.Creature]\n",
      "\n",
      "----------------------------------------\n",
      "\n",
      "HarryPotter_book.hermione\n",
      "[HarryPotter_book.HogStudent, HarryPotter_book.Gryffindor, HarryPotter_book.Muggle, HarryPotter_book.Student, HarryPotter_book.Human]\n",
      "\n",
      "----------------------------------------\n",
      "\n",
      "HarryPotter_book.ronWeasley\n",
      "[HarryPotter_book.HogStudent, HarryPotter_book.Gryffindor, HarryPotter_book.Pureblood, HarryPotter_book.Student, HarryPotter_book.Human, HarryPotter_book.Weasley]\n",
      "\n",
      "----------------------------------------\n",
      "\n",
      "HarryPotter_book.tomRiddle\n",
      "[HarryPotter_book.Slytherin, HarryPotter_book.Wizard]\n",
      "\n",
      "----------------------------------------\n",
      "\n",
      "HarryPotter_book.nevilleLongbottom\n",
      "[HarryPotter_book.HogStudent, HarryPotter_book.Gryffindor, HarryPotter_book.Student, HarryPotter_book.Human, HarryPotter_book.Wizard]\n",
      "\n",
      "----------------------------------------\n",
      "\n",
      "HarryPotter_book.trevor\n",
      "[HarryPotter_book.Pet, HarryPotter_book.Toad, HarryPotter_book.Creature]\n",
      "\n",
      "----------------------------------------\n",
      "\n",
      "HarryPotter_book.scrabber\n",
      "[HarryPotter_book.Pet, HarryPotter_book.Rat, HarryPotter_book.Creature]\n",
      "\n",
      "----------------------------------------\n",
      "\n",
      "HarryPotter_book.viktorKrum\n",
      "[HarryPotter_book.DrumstrangStud, HarryPotter_book.Wizard]\n",
      "\n",
      "----------------------------------------\n",
      "\n"
     ]
    }
   ],
   "source": [
    "classes = []\n",
    "for intance in instance_name:\n",
    "    classes = []\n",
    "    for cls in classlist:\n",
    "        instances = list(cls.instances())\n",
    "        if intance in instances:\n",
    "            classes.append(cls);\n",
    "        \n",
    "    print(intance)\n",
    "    print(classes)\n",
    "    print(\"\\n----------------------------------------\\n\")\n",
    "    \n",
    "    "
   ]
  },
  {
   "cell_type": "code",
   "execution_count": 105,
   "metadata": {},
   "outputs": [
    {
     "name": "stdout",
     "output_type": "stream",
     "text": [
      "HarryPotter_book.Cat\n",
      "[HarryPotter_book.crookshanks]\n",
      "\n",
      ".............................\n",
      "\n",
      "HarryPotter_book.Pet\n",
      "[HarryPotter_book.crookshanks, HarryPotter_book.errol, HarryPotter_book.hedwig, HarryPotter_book.scrabber, HarryPotter_book.trevor]\n",
      "\n",
      ".............................\n",
      "\n",
      "HarryPotter_book.Owl\n",
      "[HarryPotter_book.errol, HarryPotter_book.hedwig]\n",
      "\n",
      ".............................\n",
      "\n",
      "HarryPotter_book.Rat\n",
      "[HarryPotter_book.scrabber]\n",
      "\n",
      ".............................\n",
      "\n",
      "HarryPotter_book.Toad\n",
      "[HarryPotter_book.trevor]\n",
      "\n",
      ".............................\n",
      "\n",
      "HarryPotter_book.Creature\n",
      "[HarryPotter_book.crookshanks, HarryPotter_book.errol, HarryPotter_book.hedwig, HarryPotter_book.scrabber, HarryPotter_book.trevor]\n",
      "\n",
      ".............................\n",
      "\n",
      "HarryPotter_book.DrumstrangStud\n",
      "[HarryPotter_book.viktorKrum]\n",
      "\n",
      ".............................\n",
      "\n",
      "HarryPotter_book.HogStudent\n",
      "[HarryPotter_book.dracoMalfoy, HarryPotter_book.harryPotter, HarryPotter_book.hermione, HarryPotter_book.ronWeasley, HarryPotter_book.nevilleLongbottom]\n",
      "\n",
      ".............................\n",
      "\n",
      "HarryPotter_book.Gryffindor\n",
      "[HarryPotter_book.harryPotter, HarryPotter_book.hermione, HarryPotter_book.ronWeasley, HarryPotter_book.nevilleLongbottom]\n",
      "\n",
      ".............................\n",
      "\n",
      "HarryPotter_book.Slytherin\n",
      "[HarryPotter_book.dracoMalfoy, HarryPotter_book.tomRiddle]\n",
      "\n",
      ".............................\n",
      "\n",
      "HarryPotter_book.Halfblood\n",
      "[HarryPotter_book.harryPotter]\n",
      "\n",
      ".............................\n",
      "\n",
      "HarryPotter_book.Muggle\n",
      "[HarryPotter_book.hermione]\n",
      "\n",
      ".............................\n",
      "\n",
      "HarryPotter_book.Pureblood\n",
      "[HarryPotter_book.dracoMalfoy, HarryPotter_book.ronWeasley]\n",
      "\n",
      ".............................\n",
      "\n",
      "HarryPotter_book.Student\n",
      "[HarryPotter_book.dracoMalfoy, HarryPotter_book.harryPotter, HarryPotter_book.hermione, HarryPotter_book.ronWeasley, HarryPotter_book.nevilleLongbottom]\n",
      "\n",
      ".............................\n",
      "\n",
      "HarryPotter_book.Human\n",
      "[HarryPotter_book.hermione, HarryPotter_book.dracoMalfoy, HarryPotter_book.harryPotter, HarryPotter_book.ronWeasley, HarryPotter_book.nevilleLongbottom]\n",
      "\n",
      ".............................\n",
      "\n",
      "HarryPotter_book.Wizard\n",
      "[HarryPotter_book.dracoMalfoy, HarryPotter_book.harryPotter, HarryPotter_book.tomRiddle, HarryPotter_book.nevilleLongbottom, HarryPotter_book.viktorKrum]\n",
      "\n",
      ".............................\n",
      "\n",
      "HarryPotter_book.Weasley\n",
      "[HarryPotter_book.ronWeasley]\n",
      "\n",
      ".............................\n",
      "\n"
     ]
    }
   ],
   "source": [
    "for i in classlist:\n",
    "    print(i)\n",
    "    instances = list(i.instances())\n",
    "    print(instances)\n",
    "    print(\"\\n.............................\\n\")"
   ]
  },
  {
   "cell_type": "code",
   "execution_count": 106,
   "metadata": {},
   "outputs": [],
   "source": [
    "with onto:\n",
    "     class Rat(Thing):\n",
    "         pass"
   ]
  },
  {
   "cell_type": "code",
   "execution_count": 107,
   "metadata": {},
   "outputs": [
    {
     "data": {
      "text/plain": [
       "{HarryPotter_book.Creature,\n",
       " HarryPotter_book.Pet,\n",
       " HarryPotter_book.Rat,\n",
       " owl.Thing}"
      ]
     },
     "execution_count": 107,
     "metadata": {},
     "output_type": "execute_result"
    }
   ],
   "source": [
    "Rat.ancestors()"
   ]
  },
  {
   "cell_type": "code",
   "execution_count": 108,
   "metadata": {},
   "outputs": [
    {
     "name": "stdout",
     "output_type": "stream",
     "text": [
      "HarryPotter_book.scrabber\n"
     ]
    }
   ],
   "source": [
    "for i in Rat.instances(): print(i)"
   ]
  },
  {
   "cell_type": "code",
   "execution_count": 109,
   "metadata": {
    "scrolled": true
   },
   "outputs": [],
   "source": [
    "with onto:\n",
    "    class Creature(Thing):\n",
    "        pass\n"
   ]
  },
  {
   "cell_type": "code",
   "execution_count": 110,
   "metadata": {},
   "outputs": [
    {
     "name": "stdout",
     "output_type": "stream",
     "text": [
      "HarryPotter_book.crookshanks\n",
      "HarryPotter_book.errol\n",
      "HarryPotter_book.hedwig\n",
      "HarryPotter_book.scrabber\n",
      "HarryPotter_book.trevor\n"
     ]
    }
   ],
   "source": [
    "for i in Creature.instances(): print(i)"
   ]
  },
  {
   "cell_type": "code",
   "execution_count": 111,
   "metadata": {},
   "outputs": [],
   "source": [
    "for a in classlist:\n",
    "    label_list.append(a.label)"
   ]
  },
  {
   "cell_type": "code",
   "execution_count": 112,
   "metadata": {},
   "outputs": [],
   "source": [
    "with onto:\n",
    "    class Pet(Thing):\n",
    "        pass"
   ]
  },
  {
   "cell_type": "code",
   "execution_count": 113,
   "metadata": {},
   "outputs": [
    {
     "name": "stdout",
     "output_type": "stream",
     "text": [
      "HarryPotter_book.crookshanks\n",
      "HarryPotter_book.errol\n",
      "HarryPotter_book.hedwig\n",
      "HarryPotter_book.scrabber\n",
      "HarryPotter_book.trevor\n"
     ]
    }
   ],
   "source": [
    "for i in Pet.instances(): print(i)"
   ]
  },
  {
   "cell_type": "code",
   "execution_count": 114,
   "metadata": {},
   "outputs": [],
   "source": [
    "with onto:\n",
    "    class Human(Thing):\n",
    "        pass"
   ]
  },
  {
   "cell_type": "code",
   "execution_count": 115,
   "metadata": {},
   "outputs": [
    {
     "name": "stdout",
     "output_type": "stream",
     "text": [
      "HarryPotter_book.hermione\n",
      "HarryPotter_book.dracoMalfoy\n",
      "HarryPotter_book.harryPotter\n",
      "HarryPotter_book.ronWeasley\n",
      "HarryPotter_book.nevilleLongbottom\n"
     ]
    }
   ],
   "source": [
    "for i in Human.instances(): print(i)"
   ]
  }
 ],
 "metadata": {
  "kernelspec": {
   "display_name": "Python 3",
   "language": "python",
   "name": "python3"
  },
  "language_info": {
   "codemirror_mode": {
    "name": "ipython",
    "version": 3
   },
   "file_extension": ".py",
   "mimetype": "text/x-python",
   "name": "python",
   "nbconvert_exporter": "python",
   "pygments_lexer": "ipython3",
   "version": "3.8.5"
  }
 },
 "nbformat": 4,
 "nbformat_minor": 4
}
